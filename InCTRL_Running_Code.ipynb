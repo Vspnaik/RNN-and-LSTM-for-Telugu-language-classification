{
  "cells": [
    {
      "cell_type": "markdown",
      "metadata": {
        "id": "view-in-github",
        "colab_type": "text"
      },
      "source": [
        "<a href=\"https://colab.research.google.com/github/Vspnaik/RNN-and-LSTM-for-Telugu-language-classification/blob/main/InCTRL_Running_Code.ipynb\" target=\"_parent\"><img src=\"https://colab.research.google.com/assets/colab-badge.svg\" alt=\"Open In Colab\"/></a>"
      ]
    },
    {
      "cell_type": "code",
      "source": [
        "import sys\n",
        "print(sys.version)\n"
      ],
      "metadata": {
        "colab": {
          "base_uri": "https://localhost:8080/"
        },
        "id": "6qSoo-Jz5jGp",
        "outputId": "77a77948-d83b-4312-ea7e-1692d27f3724"
      },
      "execution_count": 17,
      "outputs": [
        {
          "output_type": "stream",
          "name": "stdout",
          "text": [
            "3.10.12 (main, Sep 11 2024, 15:47:36) [GCC 11.4.0]\n"
          ]
        }
      ]
    },
    {
      "cell_type": "code",
      "execution_count": 1,
      "metadata": {
        "id": "Qc-G_mOGR9Jg"
      },
      "outputs": [],
      "source": [
        "import os"
      ]
    },
    {
      "cell_type": "code",
      "execution_count": 2,
      "metadata": {
        "id": "vNe1lzCvOOjl",
        "colab": {
          "base_uri": "https://localhost:8080/"
        },
        "outputId": "92c7c3ba-364e-4180-b874-cfe9479d0690"
      },
      "outputs": [
        {
          "output_type": "stream",
          "name": "stdout",
          "text": [
            "Cloning into 'InCTRL'...\n",
            "remote: Enumerating objects: 402, done.\u001b[K\n",
            "remote: Counting objects: 100% (253/253), done.\u001b[K\n",
            "remote: Compressing objects: 100% (137/137), done.\u001b[K\n",
            "remote: Total 402 (delta 143), reused 208 (delta 114), pack-reused 149 (from 1)\u001b[K\n",
            "Receiving objects: 100% (402/402), 2.21 MiB | 23.04 MiB/s, done.\n",
            "Resolving deltas: 100% (209/209), done.\n"
          ]
        }
      ],
      "source": [
        "!git clone https://github.com/mala-lab/InCTRL.git"
      ]
    },
    {
      "cell_type": "code",
      "execution_count": 3,
      "metadata": {
        "id": "WM3Jd8T6OlVm"
      },
      "outputs": [],
      "source": [
        "os.chdir('/content/InCTRL')"
      ]
    },
    {
      "cell_type": "code",
      "source": [],
      "metadata": {
        "colab": {
          "base_uri": "https://localhost:8080/"
        },
        "id": "xEhNu3owbVm_",
        "outputId": "3bc05009-3daf-4e86-da19-017f85dfabc5"
      },
      "execution_count": null,
      "outputs": [
        {
          "output_type": "stream",
          "name": "stdout",
          "text": [
            "Dataset URL: https://www.kaggle.com/datasets/arktis2022/medical-anomaly-detection\n",
            "License(s): unknown\n",
            "Downloading medical-anomaly-detection.zip to /content/InCTRL\n",
            "100% 215M/216M [00:07<00:00, 38.7MB/s]\n",
            "100% 216M/216M [00:07<00:00, 29.3MB/s]\n"
          ]
        }
      ]
    },
    {
      "cell_type": "code",
      "execution_count": 4,
      "metadata": {
        "colab": {
          "base_uri": "https://localhost:8080/"
        },
        "id": "W1ZcTK5hOUn6",
        "outputId": "f045be70-c458-4ff2-dbaf-94778a269498"
      },
      "outputs": [
        {
          "output_type": "stream",
          "name": "stdout",
          "text": [
            "Dataset URL: https://www.kaggle.com/datasets/hycloud/mvtech-anomaly-detection\n",
            "License(s): unknown\n",
            "Downloading mvtech-anomaly-detection.zip to /content/InCTRL\n",
            "100% 4.91G/4.91G [02:40<00:00, 37.0MB/s]\n",
            "100% 4.91G/4.91G [02:40<00:00, 32.9MB/s]\n"
          ]
        }
      ],
      "source": [
        "!kaggle datasets download -d hycloud/mvtech-anomaly-detection"
      ]
    },
    {
      "cell_type": "code",
      "execution_count": null,
      "metadata": {
        "id": "GvkAVbTMSk1t"
      },
      "outputs": [],
      "source": [
        "#!gdown https://amazon-visual-anomaly.s3.us-west-2.amazonaws.com/VisA_20220922.tar"
      ]
    },
    {
      "cell_type": "code",
      "execution_count": 5,
      "metadata": {
        "collapsed": true,
        "id": "ebGmC3eRO90B"
      },
      "outputs": [],
      "source": [
        "!unzip -q /content/InCTRL/mvtech-anomaly-detection.zip"
      ]
    },
    {
      "cell_type": "markdown",
      "metadata": {
        "id": "wK89OjloZgk2"
      },
      "source": [
        "[link text](https://)**For MVtech Data set**\n"
      ]
    },
    {
      "cell_type": "code",
      "execution_count": 6,
      "metadata": {
        "id": "SWZgfqODQURp"
      },
      "outputs": [],
      "source": [
        "os.makedirs(os.getcwd()+'/datasets/AD_json')"
      ]
    },
    {
      "cell_type": "code",
      "execution_count": 7,
      "metadata": {
        "colab": {
          "base_uri": "https://localhost:8080/"
        },
        "id": "VxnlBOouWid8",
        "outputId": "a2bbfebd-653b-47b9-fa75-8798cae1547b"
      },
      "outputs": [
        {
          "output_type": "stream",
          "name": "stdout",
          "text": [
            "./datasets/AD_json/tile_normal.json ./datasets/AD_json/tile_outlier.json\n",
            "./datasets/AD_json/carpet_normal.json ./datasets/AD_json/carpet_outlier.json\n",
            "./datasets/AD_json/bottle_normal.json ./datasets/AD_json/bottle_outlier.json\n",
            "./datasets/AD_json/cable_normal.json ./datasets/AD_json/cable_outlier.json\n",
            "./datasets/AD_json/toothbrush_normal.json ./datasets/AD_json/toothbrush_outlier.json\n",
            "./datasets/AD_json/wood_normal.json ./datasets/AD_json/wood_outlier.json\n",
            "./datasets/AD_json/transistor_normal.json ./datasets/AD_json/transistor_outlier.json\n",
            "./datasets/AD_json/metal_nut_normal.json ./datasets/AD_json/metal_nut_outlier.json\n",
            "./datasets/AD_json/pill_normal.json ./datasets/AD_json/pill_outlier.json\n",
            "./datasets/AD_json/leather_normal.json ./datasets/AD_json/leather_outlier.json\n",
            "./datasets/AD_json/hazelnut_normal.json ./datasets/AD_json/hazelnut_outlier.json\n",
            "./datasets/AD_json/zipper_normal.json ./datasets/AD_json/zipper_outlier.json\n",
            "./datasets/AD_json/capsule_normal.json ./datasets/AD_json/capsule_outlier.json\n",
            "./datasets/AD_json/grid_normal.json ./datasets/AD_json/grid_outlier.json\n",
            "./datasets/AD_json/screw_normal.json ./datasets/AD_json/screw_outlier.json\n"
          ]
        }
      ],
      "source": [
        "!python /content/InCTRL/datasets/preprocess/gen_train_json.py --dataset_dir=/content/InCTRL/mvtech_anomaly_detection --dataset_name=tile\n",
        "!python /content/InCTRL/datasets/preprocess/gen_train_json.py --dataset_dir=/content/InCTRL/mvtech_anomaly_detection --dataset_name=carpet\n",
        "!python /content/InCTRL/datasets/preprocess/gen_train_json.py --dataset_dir=/content/InCTRL/mvtech_anomaly_detection --dataset_name=bottle\n",
        "!python /content/InCTRL/datasets/preprocess/gen_train_json.py --dataset_dir=/content/InCTRL/mvtech_anomaly_detection --dataset_name=cable\n",
        "!python /content/InCTRL/datasets/preprocess/gen_train_json.py --dataset_dir=/content/InCTRL/mvtech_anomaly_detection --dataset_name=toothbrush\n",
        "!python /content/InCTRL/datasets/preprocess/gen_train_json.py --dataset_dir=/content/InCTRL/mvtech_anomaly_detection --dataset_name=wood\n",
        "!python /content/InCTRL/datasets/preprocess/gen_train_json.py --dataset_dir=/content/InCTRL/mvtech_anomaly_detection --dataset_name=transistor\n",
        "!python /content/InCTRL/datasets/preprocess/gen_train_json.py --dataset_dir=/content/InCTRL/mvtech_anomaly_detection --dataset_name=metal_nut\n",
        "!python /content/InCTRL/datasets/preprocess/gen_train_json.py --dataset_dir=/content/InCTRL/mvtech_anomaly_detection --dataset_name=pill\n",
        "!python /content/InCTRL/datasets/preprocess/gen_train_json.py --dataset_dir=/content/InCTRL/mvtech_anomaly_detection --dataset_name=leather\n",
        "!python /content/InCTRL/datasets/preprocess/gen_train_json.py --dataset_dir=/content/InCTRL/mvtech_anomaly_detection --dataset_name=hazelnut\n",
        "!python /content/InCTRL/datasets/preprocess/gen_train_json.py --dataset_dir=/content/InCTRL/mvtech_anomaly_detection --dataset_name=zipper\n",
        "!python /content/InCTRL/datasets/preprocess/gen_train_json.py --dataset_dir=/content/InCTRL/mvtech_anomaly_detection --dataset_name=capsule\n",
        "!python /content/InCTRL/datasets/preprocess/gen_train_json.py --dataset_dir=/content/InCTRL/mvtech_anomaly_detection --dataset_name=grid\n",
        "!python /content/InCTRL/datasets/preprocess/gen_train_json.py --dataset_dir=/content/InCTRL/mvtech_anomaly_detection --dataset_name=screw"
      ]
    },
    {
      "cell_type": "code",
      "execution_count": 8,
      "metadata": {
        "colab": {
          "base_uri": "https://localhost:8080/"
        },
        "id": "CpxW1MaPZX_j",
        "outputId": "eb07ef40-09c5-4dae-a370-251c62fb3fc7"
      },
      "outputs": [
        {
          "output_type": "stream",
          "name": "stdout",
          "text": [
            "Downloading...\n",
            "From (original): https://drive.google.com/uc?id=1zEHsbbuUgBC4yuDu3g23wbUGmWmVyDRQ\n",
            "From (redirected): https://drive.google.com/uc?id=1zEHsbbuUgBC4yuDu3g23wbUGmWmVyDRQ&confirm=t&uuid=b5d48d90-93ad-4bc7-8749-18ca6cef8908\n",
            "To: /content/InCTRL/traind_on_mvtecad.zip\n",
            "100% 2.32G/2.32G [00:33<00:00, 68.5MB/s]\n"
          ]
        }
      ],
      "source": [
        "!gdown https://drive.google.com/uc?id=1zEHsbbuUgBC4yuDu3g23wbUGmWmVyDRQ"
      ]
    },
    {
      "cell_type": "code",
      "execution_count": 9,
      "metadata": {
        "id": "DG2rImC9amTY"
      },
      "outputs": [],
      "source": [
        "!unzip -q /content/InCTRL/traind_on_mvtecad.zip"
      ]
    },
    {
      "cell_type": "code",
      "execution_count": 10,
      "metadata": {
        "colab": {
          "base_uri": "https://localhost:8080/"
        },
        "id": "THHM_ah2lssu",
        "outputId": "f56f2c3c-dbc9-496b-84c1-e2adda5d0f0f"
      },
      "outputs": [
        {
          "output_type": "stream",
          "name": "stdout",
          "text": [
            "\u001b[2K   \u001b[90m━━━━━━━━━━━━━━━━━━━━━━━━━━━━━━━━━━━━━━━━\u001b[0m \u001b[32m137.9/137.9 kB\u001b[0m \u001b[31m5.8 MB/s\u001b[0m eta \u001b[36m0:00:00\u001b[0m\n",
            "\u001b[2K     \u001b[90m━━━━━━━━━━━━━━━━━━━━━━━━━━━━━━━━━━━━━━━━\u001b[0m \u001b[32m42.2/42.2 kB\u001b[0m \u001b[31m2.8 MB/s\u001b[0m eta \u001b[36m0:00:00\u001b[0m\n",
            "\u001b[?25h  Preparing metadata (setup.py) ... \u001b[?25l\u001b[?25hdone\n",
            "  Building wheel for iopath (setup.py) ... \u001b[?25l\u001b[?25hdone\n",
            "\u001b[2K     \u001b[90m━━━━━━━━━━━━━━━━━━━━━━━━━━━━━━━━━━━━━━━━\u001b[0m \u001b[32m50.2/50.2 kB\u001b[0m \u001b[31m3.6 MB/s\u001b[0m eta \u001b[36m0:00:00\u001b[0m\n",
            "\u001b[?25h  Preparing metadata (setup.py) ... \u001b[?25l\u001b[?25hdone\n",
            "  Building wheel for fvcore (setup.py) ... \u001b[?25l\u001b[?25hdone\n",
            "\u001b[2K   \u001b[90m━━━━━━━━━━━━━━━━━━━━━━━━━━━━━━━━━━━━━━━━\u001b[0m \u001b[32m44.8/44.8 kB\u001b[0m \u001b[31m3.0 MB/s\u001b[0m eta \u001b[36m0:00:00\u001b[0m\n",
            "\u001b[?25h"
          ]
        }
      ],
      "source": [
        "!pip -q install simplejson\n",
        "!pip -q install iopath\n",
        "!pip -q install fvcore\n",
        "!pip -q install ftfy"
      ]
    },
    {
      "cell_type": "code",
      "execution_count": 11,
      "metadata": {
        "colab": {
          "base_uri": "https://localhost:8080/"
        },
        "id": "vswbspWHkRzG",
        "outputId": "9ef484fe-5caf-4787-8c81-ed6110baa616"
      },
      "outputs": [
        {
          "output_type": "stream",
          "name": "stdout",
          "text": [
            "Downloading...\n",
            "From (original): https://drive.google.com/uc?id=1DfK1zhDeC2VV1PsoQqmKjwBg_FQeGp55\n",
            "From (redirected): https://drive.google.com/uc?id=1DfK1zhDeC2VV1PsoQqmKjwBg_FQeGp55&confirm=t&uuid=456db219-ba00-4db1-a441-0bfb090ec1cb\n",
            "To: /content/InCTRL/mvtecad.zip\n",
            "100% 32.6M/32.6M [00:01<00:00, 22.9MB/s]\n"
          ]
        }
      ],
      "source": [
        "!gdown https://drive.google.com/uc?id=1DfK1zhDeC2VV1PsoQqmKjwBg_FQeGp55"
      ]
    },
    {
      "cell_type": "code",
      "execution_count": 12,
      "metadata": {
        "id": "ETocXh0kkonk"
      },
      "outputs": [],
      "source": [
        "!unzip -q /content/InCTRL/mvtecad.zip"
      ]
    },
    {
      "cell_type": "markdown",
      "metadata": {
        "id": "QOka7xWmuaV2"
      },
      "source": [
        "*   add checkpoints path at /content/InCTRL/open_clip/config/defaults.py (Line 111): /content/InCTRL/checkpoints/2/checkpoint.pyth\n",
        "*   test.py : os.environ ['CUDA_VISIBLE_DEVICES'] = \"0\"\n"
      ]
    },
    {
      "cell_type": "code",
      "source": [
        "import torch\n",
        "\n",
        "# Check if CUDA (GPU) is available, otherwise use CPU\n",
        "if torch.cuda.is_available():\n",
        "    device = torch.device('cuda')\n",
        "else:\n",
        "    device = torch.device('cpu')\n",
        "\n",
        "    # Print the device information\n",
        "print(f\"Using device: {device}\")\n"
      ],
      "metadata": {
        "colab": {
          "base_uri": "https://localhost:8080/"
        },
        "id": "cy4i8zKO0VpE",
        "outputId": "535e5721-defc-4392-92f1-4bfd353f99a9"
      },
      "execution_count": 13,
      "outputs": [
        {
          "output_type": "stream",
          "name": "stdout",
          "text": [
            "Using device: cpu\n"
          ]
        }
      ]
    },
    {
      "cell_type": "code",
      "execution_count": 14,
      "metadata": {
        "colab": {
          "base_uri": "https://localhost:8080/"
        },
        "id": "Sh14uz5tfH4_",
        "outputId": "fd747410-8876-4ebf-b9fa-c6babdd41f8a"
      },
      "outputs": [
        {
          "output_type": "stream",
          "name": "stdout",
          "text": [
            "Traceback (most recent call last):\n",
            "  File \"/content/InCTRL/test.py\", line 168, in <module>\n",
            "    main()\n",
            "  File \"/content/InCTRL/test.py\", line 164, in main\n",
            "    launch_job(cfg=cfg, init_method=args.init_method, func=test)\n",
            "  File \"/content/InCTRL/open_clip/utils/misc.py\", line 230, in launch_job\n",
            "    func(cfg=cfg)\n",
            "  File \"/content/InCTRL/engine_test.py\", line 99, in test\n",
            "    device = torch.cuda.current_device()\n",
            "  File \"/usr/local/lib/python3.10/dist-packages/torch/cuda/__init__.py\", line 878, in current_device\n",
            "    _lazy_init()\n",
            "  File \"/usr/local/lib/python3.10/dist-packages/torch/cuda/__init__.py\", line 314, in _lazy_init\n",
            "    torch._C._cuda_init()\n",
            "RuntimeError: Found no NVIDIA driver on your system. Please check that you have an NVIDIA GPU and installed a driver from http://www.nvidia.com/Download/index.aspx\n"
          ]
        }
      ],
      "source": [
        "!python test.py --val_normal_json_path ./datasets/AD_json/bottle_normal.json --val_outlier_json_path ./datasets/AD_json/bottle_outlier.json --category bottle --few_shot_dir /content/InCTRL/mvtecad/2"
      ]
    },
    {
      "cell_type": "code",
      "source": [],
      "metadata": {
        "id": "EDK8qK_M5iAy"
      },
      "execution_count": null,
      "outputs": []
    },
    {
      "cell_type": "code",
      "execution_count": 15,
      "metadata": {
        "colab": {
          "base_uri": "https://localhost:8080/"
        },
        "id": "ZOtNfUQj6bSR",
        "outputId": "a5e94dc2-0d19-4221-af09-abfd288129e1"
      },
      "outputs": [
        {
          "output_type": "stream",
          "name": "stdout",
          "text": [
            "./datasets/AD_json/bottle_val_normal.json ./datasets/AD_json/bottle_val_outlier.json\n"
          ]
        }
      ],
      "source": [
        "!python /content/InCTRL/datasets/preprocess/gen_val_json.py --dataset_dir=/content/InCTRL/mvtech_anomaly_detection --dataset_name=bottle"
      ]
    },
    {
      "cell_type": "markdown",
      "metadata": {
        "id": "6osXjwaCY7il"
      },
      "source": [
        "**Error in engine_IC.py**\n",
        "\n",
        "\n",
        "***Replace***  ->\n",
        "line 181 to 186 with:\n",
        "\n",
        "1.   checkpoint_dir = \"/content/InCTRL/checkpoints/2/checkpoint.pyth\"\n",
        "2.   start_epoch = load_latest_checkpoint(model, checkpoint_dir)\n"
      ]
    },
    {
      "cell_type": "markdown",
      "source": [
        "def load_latest_checkpoint(model, checkpoint_dir):\n",
        "    #try:\n",
        "        # List all checkpoint files\n",
        "        checkpoint_files = [f for f in os.listdir(checkpoint_dir) if f.endswith('.pyth') or f.endswith('.pt')]\n",
        "        \n",
        "        if not checkpoint_files:\n",
        "            print(\"No checkpoint files found. Starting training from scratch.\")\n",
        "            return 0\n",
        "\n",
        "        # # Extract epoch numbers from checkpoint file names\n",
        "        # epoch_numbers = []\n",
        "        # for file_name in checkpoint_files:\n",
        "        #     match = re.search(r'checkpoint_(\\d+)\\.(pyth|pt)', file_name)\n",
        "        #     if match:\n",
        "        #         epoch_number = int(match.group(1))\n",
        "        #         epoch_numbers.append((epoch_number, file_name))\n",
        "\n",
        "        # Find the checkpoint with the highest epoch number\n",
        "        if os.path.exists(os.path.join(checkpoint_dir,\"checkpoint.pyth\")):\n",
        "            # latest_epoch, latest_checkpoint_file = max(epoch_numbers, key=lambda x: x[0])\n",
        "            # latest_checkpoint_path = os.path.join(checkpoint_dir, latest_checkpoint_file)\n",
        "            \n",
        "            checkpoint = torch.load(os.path.join(checkpoint_dir,\"checkpoint.pyth\"), map_location=\"cpu\")\n",
        "            model.load_state_dict(checkpoint)\n",
        "            # latest_epoch = checkpoint['epoch']\n",
        "            print(f\"Loaded checkpoint '{os.path.join(checkpoint_dir, 'checkpoint.pyth')}'\")\n",
        "\n",
        "            # print(f\"Loaded checkpoint '{os.path.join(checkpoint_dir,\"model.pt\")}' (epoch {latest_epoch})\")\n",
        "            return 0\n",
        "        else:\n",
        "            print(\"No valid checkpoint files found. Starting training from scratch.\")\n",
        "            return 0\n",
        "    # except:\n",
        "    #     print(\"State not loaded!\")"
      ],
      "metadata": {
        "id": "pE1KrCd1ja-V"
      }
    },
    {
      "cell_type": "code",
      "execution_count": 16,
      "metadata": {
        "colab": {
          "base_uri": "https://localhost:8080/"
        },
        "id": "Ageq_FQHl41h",
        "outputId": "7ff51c4c-09bc-430e-cb76-45bd98c25fe1"
      },
      "outputs": [
        {
          "output_type": "stream",
          "name": "stdout",
          "text": [
            "Traceback (most recent call last):\n",
            "  File \"/content/InCTRL/main.py\", line 162, in <module>\n",
            "    main()\n",
            "  File \"/content/InCTRL/main.py\", line 154, in main\n",
            "    launch_job(cfg=cfg, init_method=args.init_method, func=train)\n",
            "  File \"/content/InCTRL/open_clip/utils/misc.py\", line 230, in launch_job\n",
            "    func(cfg=cfg)\n",
            "  File \"/content/InCTRL/engine_IC.py\", line 140, in train\n",
            "    device = torch.cuda.current_device()\n",
            "  File \"/usr/local/lib/python3.10/dist-packages/torch/cuda/__init__.py\", line 878, in current_device\n",
            "    _lazy_init()\n",
            "  File \"/usr/local/lib/python3.10/dist-packages/torch/cuda/__init__.py\", line 314, in _lazy_init\n",
            "    torch._C._cuda_init()\n",
            "RuntimeError: Found no NVIDIA driver on your system. Please check that you have an NVIDIA GPU and installed a driver from http://www.nvidia.com/Download/index.aspx\n"
          ]
        }
      ],
      "source": [
        "!python main.py --normal_json_path /content/InCTRL/datasets/AD_json/bottle_normal.json --outlier_json_path /content/InCTRL/datasets/AD_json/bottle_outlier.json --val_normal_json_path /content/InCTRL/datasets/AD_json/bottle_val_normal.json --val_outlier_json_path /content/InCTRL/datasets/AD_json/bottle_val_outlier.json"
      ]
    }
  ],
  "metadata": {
    "colab": {
      "provenance": [],
      "include_colab_link": true
    },
    "kernelspec": {
      "display_name": "Python 3",
      "name": "python3"
    },
    "language_info": {
      "name": "python"
    }
  },
  "nbformat": 4,
  "nbformat_minor": 0
}